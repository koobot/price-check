{
 "cells": [
  {
   "cell_type": "code",
   "execution_count": 2,
   "id": "65c67fcd-da29-47ab-b949-7455eb8586b5",
   "metadata": {},
   "outputs": [],
   "source": [
    "import pandas as pd\n",
    "import numpy as np\n",
    "import seaborn as sns"
   ]
  },
  {
   "cell_type": "markdown",
   "id": "d88faa13-fc45-4be7-be55-4e270187cb6e",
   "metadata": {},
   "source": [
    "# Read in data"
   ]
  },
  {
   "cell_type": "code",
   "execution_count": 3,
   "id": "10bed700-0393-4136-8de9-5d5a314e119f",
   "metadata": {},
   "outputs": [
    {
     "name": "stdout",
     "output_type": "stream",
     "text": [
      "<class 'pandas.core.frame.DataFrame'>\n",
      "RangeIndex: 675 entries, 0 to 674\n",
      "Data columns (total 10 columns):\n",
      " #   Column              Non-Null Count  Dtype  \n",
      "---  ------              --------------  -----  \n",
      " 0   url                 675 non-null    object \n",
      " 1   scrape_date         675 non-null    object \n",
      " 2   scrape_weekday      675 non-null    object \n",
      " 3   scrape_time         675 non-null    object \n",
      " 4   product_name        675 non-null    object \n",
      " 5   product_size        675 non-null    object \n",
      " 6   sku_id              675 non-null    object \n",
      " 7   autodelivery_price  675 non-null    float64\n",
      " 8   standard_price      675 non-null    object \n",
      " 9   sold_out            675 non-null    bool   \n",
      "dtypes: bool(1), float64(1), object(8)\n",
      "memory usage: 48.2+ KB\n"
     ]
    },
    {
     "data": {
      "text/plain": [
       "array(['royal canin kitten instinctive jelly wet cat food pouches',\n",
       "       'royal canin kitten instinctive gravy wet cat food pouches',\n",
       "       'rufus and coco wee kitty clumping corn litter'], dtype=object)"
      ]
     },
     "execution_count": 3,
     "metadata": {},
     "output_type": "execute_result"
    }
   ],
   "source": [
    "src_path = 'D:\\Documents\\Python\\price-check\\output\\pet-circle.csv'.replace('\\\\', '/')\n",
    "src_data = pd.read_csv(src_path)\n",
    "\n",
    "src_data.info()\n",
    "src_data.product_name.unique()"
   ]
  },
  {
   "cell_type": "code",
   "execution_count": 4,
   "id": "ecec4eeb-b233-4baa-b377-dd5e12227c03",
   "metadata": {},
   "outputs": [
    {
     "data": {
      "text/html": [
       "<div>\n",
       "<style scoped>\n",
       "    .dataframe tbody tr th:only-of-type {\n",
       "        vertical-align: middle;\n",
       "    }\n",
       "\n",
       "    .dataframe tbody tr th {\n",
       "        vertical-align: top;\n",
       "    }\n",
       "\n",
       "    .dataframe thead th {\n",
       "        text-align: right;\n",
       "    }\n",
       "</style>\n",
       "<table border=\"1\" class=\"dataframe\">\n",
       "  <thead>\n",
       "    <tr style=\"text-align: right;\">\n",
       "      <th></th>\n",
       "      <th>url</th>\n",
       "      <th>scrape_date</th>\n",
       "      <th>scrape_weekday</th>\n",
       "      <th>scrape_time</th>\n",
       "      <th>product_name</th>\n",
       "      <th>product_size</th>\n",
       "      <th>sku_id</th>\n",
       "      <th>autodelivery_price</th>\n",
       "      <th>standard_price</th>\n",
       "      <th>sold_out</th>\n",
       "    </tr>\n",
       "  </thead>\n",
       "  <tbody>\n",
       "    <tr>\n",
       "      <th>4</th>\n",
       "      <td>https://www.petcircle.com.au/product/rufus-and...</td>\n",
       "      <td>2020-10-23</td>\n",
       "      <td>Friday</td>\n",
       "      <td>17:06:39.652196</td>\n",
       "      <td>rufus and coco wee kitty clumping corn litter</td>\n",
       "      <td>2kg</td>\n",
       "      <td>RCCLCLXX</td>\n",
       "      <td>10.400000</td>\n",
       "      <td>$10.94</td>\n",
       "      <td>False</td>\n",
       "    </tr>\n",
       "    <tr>\n",
       "      <th>5</th>\n",
       "      <td>https://www.petcircle.com.au/product/rufus-and...</td>\n",
       "      <td>2020-10-23</td>\n",
       "      <td>Friday</td>\n",
       "      <td>17:06:39.652196</td>\n",
       "      <td>rufus and coco wee kitty clumping corn litter</td>\n",
       "      <td>4kg</td>\n",
       "      <td>RCCLCL8</td>\n",
       "      <td>20.340000</td>\n",
       "      <td>$21.40</td>\n",
       "      <td>False</td>\n",
       "    </tr>\n",
       "    <tr>\n",
       "      <th>6</th>\n",
       "      <td>https://www.petcircle.com.au/product/rufus-and...</td>\n",
       "      <td>2020-10-23</td>\n",
       "      <td>Friday</td>\n",
       "      <td>17:06:39.652196</td>\n",
       "      <td>rufus and coco wee kitty clumping corn litter</td>\n",
       "      <td>9kg</td>\n",
       "      <td>RCCLCL18US</td>\n",
       "      <td>42.750002</td>\n",
       "      <td>$44.99</td>\n",
       "      <td>False</td>\n",
       "    </tr>\n",
       "    <tr>\n",
       "      <th>7</th>\n",
       "      <td>https://www.petcircle.com.au/product/rufus-and...</td>\n",
       "      <td>2020-10-23</td>\n",
       "      <td>Friday</td>\n",
       "      <td>17:06:39.652196</td>\n",
       "      <td>rufus and coco wee kitty clumping corn litter</td>\n",
       "      <td>16kg</td>\n",
       "      <td>RCCLCL8MS</td>\n",
       "      <td>71.160002</td>\n",
       "      <td>$74.90</td>\n",
       "      <td>False</td>\n",
       "    </tr>\n",
       "    <tr>\n",
       "      <th>8</th>\n",
       "      <td>https://www.petcircle.com.au/product/rufus-and...</td>\n",
       "      <td>2020-10-23</td>\n",
       "      <td>Friday</td>\n",
       "      <td>17:06:39.652196</td>\n",
       "      <td>rufus and coco wee kitty clumping corn litter</td>\n",
       "      <td>18kg</td>\n",
       "      <td>RCCLCL18USVO2X</td>\n",
       "      <td>85.490003</td>\n",
       "      <td>$89.98</td>\n",
       "      <td>False</td>\n",
       "    </tr>\n",
       "  </tbody>\n",
       "</table>\n",
       "</div>"
      ],
      "text/plain": [
       "                                                 url scrape_date  \\\n",
       "4  https://www.petcircle.com.au/product/rufus-and...  2020-10-23   \n",
       "5  https://www.petcircle.com.au/product/rufus-and...  2020-10-23   \n",
       "6  https://www.petcircle.com.au/product/rufus-and...  2020-10-23   \n",
       "7  https://www.petcircle.com.au/product/rufus-and...  2020-10-23   \n",
       "8  https://www.petcircle.com.au/product/rufus-and...  2020-10-23   \n",
       "\n",
       "  scrape_weekday      scrape_time  \\\n",
       "4         Friday  17:06:39.652196   \n",
       "5         Friday  17:06:39.652196   \n",
       "6         Friday  17:06:39.652196   \n",
       "7         Friday  17:06:39.652196   \n",
       "8         Friday  17:06:39.652196   \n",
       "\n",
       "                                    product_name product_size          sku_id  \\\n",
       "4  rufus and coco wee kitty clumping corn litter          2kg        RCCLCLXX   \n",
       "5  rufus and coco wee kitty clumping corn litter          4kg         RCCLCL8   \n",
       "6  rufus and coco wee kitty clumping corn litter          9kg      RCCLCL18US   \n",
       "7  rufus and coco wee kitty clumping corn litter         16kg       RCCLCL8MS   \n",
       "8  rufus and coco wee kitty clumping corn litter         18kg  RCCLCL18USVO2X   \n",
       "\n",
       "   autodelivery_price standard_price  sold_out  \n",
       "4           10.400000         $10.94     False  \n",
       "5           20.340000         $21.40     False  \n",
       "6           42.750002         $44.99     False  \n",
       "7           71.160002         $74.90     False  \n",
       "8           85.490003         $89.98     False  "
      ]
     },
     "execution_count": 4,
     "metadata": {},
     "output_type": "execute_result"
    }
   ],
   "source": [
    "kitty_litter = src_data[src_data['product_name']=='rufus and coco wee kitty clumping corn litter']\n",
    "\n",
    "kitty_litter.head()"
   ]
  },
  {
   "cell_type": "markdown",
   "id": "d3f1672e-3ec3-426e-8985-438b520ccc79",
   "metadata": {},
   "source": [
    "# Explore data"
   ]
  },
  {
   "cell_type": "code",
   "execution_count": 12,
   "id": "72c0eca0-00a7-4929-9221-13e79cf6d330",
   "metadata": {},
   "outputs": [
    {
     "data": {
      "text/html": [
       "<div>\n",
       "<style scoped>\n",
       "    .dataframe tbody tr th:only-of-type {\n",
       "        vertical-align: middle;\n",
       "    }\n",
       "\n",
       "    .dataframe tbody tr th {\n",
       "        vertical-align: top;\n",
       "    }\n",
       "\n",
       "    .dataframe thead th {\n",
       "        text-align: right;\n",
       "    }\n",
       "</style>\n",
       "<table border=\"1\" class=\"dataframe\">\n",
       "  <thead>\n",
       "    <tr style=\"text-align: right;\">\n",
       "      <th></th>\n",
       "      <th>product_size</th>\n",
       "      <th>sku_id</th>\n",
       "      <th>count</th>\n",
       "    </tr>\n",
       "  </thead>\n",
       "  <tbody>\n",
       "    <tr>\n",
       "      <th>0</th>\n",
       "      <td>16kg</td>\n",
       "      <td>RCCLCL8MS</td>\n",
       "      <td>75</td>\n",
       "    </tr>\n",
       "    <tr>\n",
       "      <th>1</th>\n",
       "      <td>18kg</td>\n",
       "      <td>RCCLCL18USVO2X</td>\n",
       "      <td>75</td>\n",
       "    </tr>\n",
       "    <tr>\n",
       "      <th>2</th>\n",
       "      <td>2kg</td>\n",
       "      <td>RCCLCLXX</td>\n",
       "      <td>75</td>\n",
       "    </tr>\n",
       "    <tr>\n",
       "      <th>3</th>\n",
       "      <td>4kg</td>\n",
       "      <td>RCCLCL8</td>\n",
       "      <td>75</td>\n",
       "    </tr>\n",
       "    <tr>\n",
       "      <th>4</th>\n",
       "      <td>9kg</td>\n",
       "      <td>RCCLCL18US</td>\n",
       "      <td>75</td>\n",
       "    </tr>\n",
       "  </tbody>\n",
       "</table>\n",
       "</div>"
      ],
      "text/plain": [
       "  product_size          sku_id  count\n",
       "0         16kg       RCCLCL8MS     75\n",
       "1         18kg  RCCLCL18USVO2X     75\n",
       "2          2kg        RCCLCLXX     75\n",
       "3          4kg         RCCLCL8     75\n",
       "4          9kg      RCCLCL18US     75"
      ]
     },
     "execution_count": 12,
     "metadata": {},
     "output_type": "execute_result"
    }
   ],
   "source": [
    "kitty_litter.groupby(['product_size', 'sku_id']).size().reset_index().rename(columns={0: 'count'})"
   ]
  },
  {
   "cell_type": "markdown",
   "id": "068c3b8f-71bc-4407-8377-f7b3fda0bdc8",
   "metadata": {},
   "source": [
    "Make new column that does price per kgkitty_litter['dollar_per_kg'] = (kitty_litter.autodelivery_price / kitty_litter.weight)"
   ]
  },
  {
   "cell_type": "code",
   "execution_count": 16,
   "id": "7b74a8a6-8063-4150-8c12-bdf9b669676d",
   "metadata": {},
   "outputs": [
    {
     "name": "stderr",
     "output_type": "stream",
     "text": [
      "C:\\ProgramData\\Anaconda3\\envs\\analytics_1\\lib\\site-packages\\pandas\\core\\frame.py:3641: SettingWithCopyWarning: \n",
      "A value is trying to be set on a copy of a slice from a DataFrame.\n",
      "Try using .loc[row_indexer,col_indexer] = value instead\n",
      "\n",
      "See the caveats in the documentation: https://pandas.pydata.org/pandas-docs/stable/user_guide/indexing.html#returning-a-view-versus-a-copy\n",
      "  self[k1] = value[k2]\n",
      "C:\\Users\\Koo\\AppData\\Local\\Temp/ipykernel_8720/3856693574.py:2: SettingWithCopyWarning: \n",
      "A value is trying to be set on a copy of a slice from a DataFrame.\n",
      "Try using .loc[row_indexer,col_indexer] = value instead\n",
      "\n",
      "See the caveats in the documentation: https://pandas.pydata.org/pandas-docs/stable/user_guide/indexing.html#returning-a-view-versus-a-copy\n",
      "  kitty_litter['weight'] = kitty_litter['weight'].astype(float)\n",
      "C:\\Users\\Koo\\AppData\\Local\\Temp/ipykernel_8720/3856693574.py:3: SettingWithCopyWarning: \n",
      "A value is trying to be set on a copy of a slice from a DataFrame.\n",
      "Try using .loc[row_indexer,col_indexer] = value instead\n",
      "\n",
      "See the caveats in the documentation: https://pandas.pydata.org/pandas-docs/stable/user_guide/indexing.html#returning-a-view-versus-a-copy\n",
      "  kitty_litter['dollar_per_kg'] = (kitty_litter.autodelivery_price / kitty_litter.weight)\n"
     ]
    },
    {
     "data": {
      "text/html": [
       "<div>\n",
       "<style scoped>\n",
       "    .dataframe tbody tr th:only-of-type {\n",
       "        vertical-align: middle;\n",
       "    }\n",
       "\n",
       "    .dataframe tbody tr th {\n",
       "        vertical-align: top;\n",
       "    }\n",
       "\n",
       "    .dataframe thead th {\n",
       "        text-align: right;\n",
       "    }\n",
       "</style>\n",
       "<table border=\"1\" class=\"dataframe\">\n",
       "  <thead>\n",
       "    <tr style=\"text-align: right;\">\n",
       "      <th></th>\n",
       "      <th>url</th>\n",
       "      <th>scrape_date</th>\n",
       "      <th>scrape_weekday</th>\n",
       "      <th>scrape_time</th>\n",
       "      <th>product_name</th>\n",
       "      <th>product_size</th>\n",
       "      <th>sku_id</th>\n",
       "      <th>autodelivery_price</th>\n",
       "      <th>standard_price</th>\n",
       "      <th>sold_out</th>\n",
       "      <th>weight</th>\n",
       "      <th>unit</th>\n",
       "      <th>dollar_per_kg</th>\n",
       "    </tr>\n",
       "  </thead>\n",
       "  <tbody>\n",
       "    <tr>\n",
       "      <th>4</th>\n",
       "      <td>https://www.petcircle.com.au/product/rufus-and...</td>\n",
       "      <td>2020-10-23</td>\n",
       "      <td>Friday</td>\n",
       "      <td>17:06:39.652196</td>\n",
       "      <td>rufus and coco wee kitty clumping corn litter</td>\n",
       "      <td>2kg</td>\n",
       "      <td>RCCLCLXX</td>\n",
       "      <td>10.400000</td>\n",
       "      <td>$10.94</td>\n",
       "      <td>False</td>\n",
       "      <td>2.0</td>\n",
       "      <td>kg</td>\n",
       "      <td>5.200000</td>\n",
       "    </tr>\n",
       "    <tr>\n",
       "      <th>5</th>\n",
       "      <td>https://www.petcircle.com.au/product/rufus-and...</td>\n",
       "      <td>2020-10-23</td>\n",
       "      <td>Friday</td>\n",
       "      <td>17:06:39.652196</td>\n",
       "      <td>rufus and coco wee kitty clumping corn litter</td>\n",
       "      <td>4kg</td>\n",
       "      <td>RCCLCL8</td>\n",
       "      <td>20.340000</td>\n",
       "      <td>$21.40</td>\n",
       "      <td>False</td>\n",
       "      <td>4.0</td>\n",
       "      <td>kg</td>\n",
       "      <td>5.085000</td>\n",
       "    </tr>\n",
       "    <tr>\n",
       "      <th>6</th>\n",
       "      <td>https://www.petcircle.com.au/product/rufus-and...</td>\n",
       "      <td>2020-10-23</td>\n",
       "      <td>Friday</td>\n",
       "      <td>17:06:39.652196</td>\n",
       "      <td>rufus and coco wee kitty clumping corn litter</td>\n",
       "      <td>9kg</td>\n",
       "      <td>RCCLCL18US</td>\n",
       "      <td>42.750002</td>\n",
       "      <td>$44.99</td>\n",
       "      <td>False</td>\n",
       "      <td>9.0</td>\n",
       "      <td>kg</td>\n",
       "      <td>4.750000</td>\n",
       "    </tr>\n",
       "    <tr>\n",
       "      <th>7</th>\n",
       "      <td>https://www.petcircle.com.au/product/rufus-and...</td>\n",
       "      <td>2020-10-23</td>\n",
       "      <td>Friday</td>\n",
       "      <td>17:06:39.652196</td>\n",
       "      <td>rufus and coco wee kitty clumping corn litter</td>\n",
       "      <td>16kg</td>\n",
       "      <td>RCCLCL8MS</td>\n",
       "      <td>71.160002</td>\n",
       "      <td>$74.90</td>\n",
       "      <td>False</td>\n",
       "      <td>16.0</td>\n",
       "      <td>kg</td>\n",
       "      <td>4.447500</td>\n",
       "    </tr>\n",
       "    <tr>\n",
       "      <th>8</th>\n",
       "      <td>https://www.petcircle.com.au/product/rufus-and...</td>\n",
       "      <td>2020-10-23</td>\n",
       "      <td>Friday</td>\n",
       "      <td>17:06:39.652196</td>\n",
       "      <td>rufus and coco wee kitty clumping corn litter</td>\n",
       "      <td>18kg</td>\n",
       "      <td>RCCLCL18USVO2X</td>\n",
       "      <td>85.490003</td>\n",
       "      <td>$89.98</td>\n",
       "      <td>False</td>\n",
       "      <td>18.0</td>\n",
       "      <td>kg</td>\n",
       "      <td>4.749445</td>\n",
       "    </tr>\n",
       "  </tbody>\n",
       "</table>\n",
       "</div>"
      ],
      "text/plain": [
       "                                                 url scrape_date  \\\n",
       "4  https://www.petcircle.com.au/product/rufus-and...  2020-10-23   \n",
       "5  https://www.petcircle.com.au/product/rufus-and...  2020-10-23   \n",
       "6  https://www.petcircle.com.au/product/rufus-and...  2020-10-23   \n",
       "7  https://www.petcircle.com.au/product/rufus-and...  2020-10-23   \n",
       "8  https://www.petcircle.com.au/product/rufus-and...  2020-10-23   \n",
       "\n",
       "  scrape_weekday      scrape_time  \\\n",
       "4         Friday  17:06:39.652196   \n",
       "5         Friday  17:06:39.652196   \n",
       "6         Friday  17:06:39.652196   \n",
       "7         Friday  17:06:39.652196   \n",
       "8         Friday  17:06:39.652196   \n",
       "\n",
       "                                    product_name product_size          sku_id  \\\n",
       "4  rufus and coco wee kitty clumping corn litter          2kg        RCCLCLXX   \n",
       "5  rufus and coco wee kitty clumping corn litter          4kg         RCCLCL8   \n",
       "6  rufus and coco wee kitty clumping corn litter          9kg      RCCLCL18US   \n",
       "7  rufus and coco wee kitty clumping corn litter         16kg       RCCLCL8MS   \n",
       "8  rufus and coco wee kitty clumping corn litter         18kg  RCCLCL18USVO2X   \n",
       "\n",
       "   autodelivery_price standard_price  sold_out  weight unit  dollar_per_kg  \n",
       "4           10.400000         $10.94     False     2.0   kg       5.200000  \n",
       "5           20.340000         $21.40     False     4.0   kg       5.085000  \n",
       "6           42.750002         $44.99     False     9.0   kg       4.750000  \n",
       "7           71.160002         $74.90     False    16.0   kg       4.447500  \n",
       "8           85.490003         $89.98     False    18.0   kg       4.749445  "
      ]
     },
     "execution_count": 16,
     "metadata": {},
     "output_type": "execute_result"
    }
   ],
   "source": [
    "kitty_litter[['weight', 'unit']] = kitty_litter['product_size'].str.split('([a-z]+)', expand=True).iloc[:, 0:2]\n",
    "kitty_litter['weight'] = kitty_litter['weight'].astype(float)\n",
    "kitty_litter['dollar_per_kg'] = (kitty_litter.autodelivery_price / kitty_litter.weight)\n",
    "\n",
    "kitty_litter.head()"
   ]
  },
  {
   "cell_type": "markdown",
   "id": "1dab6902-7fa6-4d84-94f0-7a56a39f32a8",
   "metadata": {},
   "source": [
    "See range of price per kg, and average price per kg\n",
    "\n",
    "Group by product size"
   ]
  },
  {
   "cell_type": "code",
   "execution_count": 24,
   "id": "64fae7e4-912a-4b6a-95b0-678093f83389",
   "metadata": {},
   "outputs": [
    {
     "data": {
      "text/html": [
       "<div>\n",
       "<style scoped>\n",
       "    .dataframe tbody tr th:only-of-type {\n",
       "        vertical-align: middle;\n",
       "    }\n",
       "\n",
       "    .dataframe tbody tr th {\n",
       "        vertical-align: top;\n",
       "    }\n",
       "\n",
       "    .dataframe thead th {\n",
       "        text-align: right;\n",
       "    }\n",
       "</style>\n",
       "<table border=\"1\" class=\"dataframe\">\n",
       "  <thead>\n",
       "    <tr style=\"text-align: right;\">\n",
       "      <th></th>\n",
       "      <th>count</th>\n",
       "      <th>mean</th>\n",
       "      <th>std</th>\n",
       "      <th>min</th>\n",
       "      <th>25%</th>\n",
       "      <th>50%</th>\n",
       "      <th>75%</th>\n",
       "      <th>max</th>\n",
       "    </tr>\n",
       "    <tr>\n",
       "      <th>product_size</th>\n",
       "      <th></th>\n",
       "      <th></th>\n",
       "      <th></th>\n",
       "      <th></th>\n",
       "      <th></th>\n",
       "      <th></th>\n",
       "      <th></th>\n",
       "      <th></th>\n",
       "    </tr>\n",
       "  </thead>\n",
       "  <tbody>\n",
       "    <tr>\n",
       "      <th>18kg</th>\n",
       "      <td>75.0</td>\n",
       "      <td>4.254200</td>\n",
       "      <td>0.344365</td>\n",
       "      <td>3.620000</td>\n",
       "      <td>3.909444</td>\n",
       "      <td>4.485556</td>\n",
       "      <td>4.485556</td>\n",
       "      <td>4.749445</td>\n",
       "    </tr>\n",
       "    <tr>\n",
       "      <th>9kg</th>\n",
       "      <td>75.0</td>\n",
       "      <td>4.368933</td>\n",
       "      <td>0.434182</td>\n",
       "      <td>3.324444</td>\n",
       "      <td>3.990000</td>\n",
       "      <td>4.750000</td>\n",
       "      <td>4.750000</td>\n",
       "      <td>4.750000</td>\n",
       "    </tr>\n",
       "    <tr>\n",
       "      <th>16kg</th>\n",
       "      <td>75.0</td>\n",
       "      <td>4.389283</td>\n",
       "      <td>0.142754</td>\n",
       "      <td>3.780000</td>\n",
       "      <td>4.280625</td>\n",
       "      <td>4.447500</td>\n",
       "      <td>4.447500</td>\n",
       "      <td>4.701875</td>\n",
       "    </tr>\n",
       "    <tr>\n",
       "      <th>4kg</th>\n",
       "      <td>75.0</td>\n",
       "      <td>5.068600</td>\n",
       "      <td>0.448424</td>\n",
       "      <td>3.857500</td>\n",
       "      <td>4.797500</td>\n",
       "      <td>5.085000</td>\n",
       "      <td>5.462500</td>\n",
       "      <td>5.462500</td>\n",
       "    </tr>\n",
       "    <tr>\n",
       "      <th>2kg</th>\n",
       "      <td>75.0</td>\n",
       "      <td>5.843200</td>\n",
       "      <td>0.523616</td>\n",
       "      <td>4.630000</td>\n",
       "      <td>5.510000</td>\n",
       "      <td>6.175000</td>\n",
       "      <td>6.175000</td>\n",
       "      <td>6.175000</td>\n",
       "    </tr>\n",
       "  </tbody>\n",
       "</table>\n",
       "</div>"
      ],
      "text/plain": [
       "              count      mean       std       min       25%       50%  \\\n",
       "product_size                                                            \n",
       "18kg           75.0  4.254200  0.344365  3.620000  3.909444  4.485556   \n",
       "9kg            75.0  4.368933  0.434182  3.324444  3.990000  4.750000   \n",
       "16kg           75.0  4.389283  0.142754  3.780000  4.280625  4.447500   \n",
       "4kg            75.0  5.068600  0.448424  3.857500  4.797500  5.085000   \n",
       "2kg            75.0  5.843200  0.523616  4.630000  5.510000  6.175000   \n",
       "\n",
       "                   75%       max  \n",
       "product_size                      \n",
       "18kg          4.485556  4.749445  \n",
       "9kg           4.750000  4.750000  \n",
       "16kg          4.447500  4.701875  \n",
       "4kg           5.462500  5.462500  \n",
       "2kg           6.175000  6.175000  "
      ]
     },
     "execution_count": 24,
     "metadata": {},
     "output_type": "execute_result"
    }
   ],
   "source": [
    "kitty_litter.groupby(['product_size'])['dollar_per_kg'].describe().sort_values(by=['mean'])"
   ]
  },
  {
   "cell_type": "markdown",
   "id": "bb9fd074-2688-4302-adbe-636c6111f20f",
   "metadata": {},
   "source": [
    "## Plotting this"
   ]
  },
  {
   "cell_type": "code",
   "execution_count": 32,
   "id": "1d62380c-3398-4221-a2e7-a0f58d94952f",
   "metadata": {},
   "outputs": [
    {
     "data": {
      "image/png": "[encoded data removed]",
      "text/plain": [
       "<Figure size 862.625x792 with 1 Axes>"
      ]
     },
     "metadata": {
      "needs_background": "light"
     },
     "output_type": "display_data"
    }
   ],
   "source": [
    "p = sns.relplot(x=\"scrape_date\", y=\"dollar_per_kg\", hue=\"product_size\",\n",
    "                kind=\"line\", data=kitty_litter,\n",
    "                height=11)\n",
    "p.figure.autofmt_xdate()"
   ]
  },
  {
   "cell_type": "markdown",
   "id": "5e04c855-04a2-4a15-8684-2943bb981716",
   "metadata": {},
   "source": [
    "### See distribution of data by month\n",
    "\n",
    "Due to uneven collection periods, need to see what the spread over time is."
   ]
  },
  {
   "cell_type": "code",
   "execution_count": 44,
   "id": "205b6821-2ea8-49fc-95fa-414a39b026ce",
   "metadata": {},
   "outputs": [
    {
     "name": "stderr",
     "output_type": "stream",
     "text": [
      "C:\\Users\\Koo\\AppData\\Local\\Temp/ipykernel_8720/149982831.py:1: SettingWithCopyWarning: \n",
      "A value is trying to be set on a copy of a slice from a DataFrame.\n",
      "Try using .loc[row_indexer,col_indexer] = value instead\n",
      "\n",
      "See the caveats in the documentation: https://pandas.pydata.org/pandas-docs/stable/user_guide/indexing.html#returning-a-view-versus-a-copy\n",
      "  kitty_litter['scrape_date'] = pd.to_datetime(kitty_litter['scrape_date'])\n"
     ]
    }
   ],
   "source": [
    "kitty_litter['scrape_date'] = pd.to_datetime(kitty_litter['scrape_date'])"
   ]
  },
  {
   "cell_type": "code",
   "execution_count": 45,
   "id": "e918d6e9-0c9a-45ee-8716-115680720c63",
   "metadata": {},
   "outputs": [
    {
     "name": "stdout",
     "output_type": "stream",
     "text": [
      "<class 'pandas.core.frame.DataFrame'>\n",
      "Int64Index: 375 entries, 4 to 674\n",
      "Data columns (total 13 columns):\n",
      " #   Column              Non-Null Count  Dtype         \n",
      "---  ------              --------------  -----         \n",
      " 0   url                 375 non-null    object        \n",
      " 1   scrape_date         375 non-null    datetime64[ns]\n",
      " 2   scrape_weekday      375 non-null    object        \n",
      " 3   scrape_time         375 non-null    object        \n",
      " 4   product_name        375 non-null    object        \n",
      " 5   product_size        375 non-null    object        \n",
      " 6   sku_id              375 non-null    object        \n",
      " 7   autodelivery_price  375 non-null    float64       \n",
      " 8   standard_price      375 non-null    object        \n",
      " 9   sold_out            375 non-null    bool          \n",
      " 10  weight              375 non-null    float64       \n",
      " 11  unit                375 non-null    object        \n",
      " 12  dollar_per_kg       375 non-null    float64       \n",
      "dtypes: bool(1), datetime64[ns](1), float64(3), object(8)\n",
      "memory usage: 46.6+ KB\n"
     ]
    }
   ],
   "source": [
    "kitty_litter.info()"
   ]
  },
  {
   "cell_type": "markdown",
   "id": "f447f2d4-34d4-4e89-a687-194c060682e2",
   "metadata": {},
   "source": [
    "#### See group by year"
   ]
  },
  {
   "cell_type": "code",
   "execution_count": 53,
   "id": "81938d55-d621-4a38-a82c-f7d74d69b2ea",
   "metadata": {},
   "outputs": [
    {
     "data": {
      "text/html": [
       "<div>\n",
       "<style scoped>\n",
       "    .dataframe tbody tr th:only-of-type {\n",
       "        vertical-align: middle;\n",
       "    }\n",
       "\n",
       "    .dataframe tbody tr th {\n",
       "        vertical-align: top;\n",
       "    }\n",
       "\n",
       "    .dataframe thead th {\n",
       "        text-align: right;\n",
       "    }\n",
       "</style>\n",
       "<table border=\"1\" class=\"dataframe\">\n",
       "  <thead>\n",
       "    <tr style=\"text-align: right;\">\n",
       "      <th></th>\n",
       "      <th>scrape_date</th>\n",
       "      <th>count</th>\n",
       "    </tr>\n",
       "  </thead>\n",
       "  <tbody>\n",
       "    <tr>\n",
       "      <th>0</th>\n",
       "      <td>2020</td>\n",
       "      <td>120</td>\n",
       "    </tr>\n",
       "    <tr>\n",
       "      <th>1</th>\n",
       "      <td>2021</td>\n",
       "      <td>255</td>\n",
       "    </tr>\n",
       "  </tbody>\n",
       "</table>\n",
       "</div>"
      ],
      "text/plain": [
       "   scrape_date  count\n",
       "0         2020    120\n",
       "1         2021    255"
      ]
     },
     "execution_count": 53,
     "metadata": {},
     "output_type": "execute_result"
    }
   ],
   "source": [
    "kitty_litter.groupby(by=[kitty_litter.scrape_date.dt.year]).size().reset_index().rename(columns={0: 'count'})"
   ]
  },
  {
   "cell_type": "markdown",
   "id": "3873bdfe-d4b0-49ad-83ee-4ed19d3a1531",
   "metadata": {},
   "source": [
    "Twice as many data points in 2021 compared to 2020."
   ]
  },
  {
   "cell_type": "markdown",
   "id": "56c853d7-964d-4342-a4ba-cc5bd5606204",
   "metadata": {},
   "source": [
    "#### See group by month"
   ]
  },
  {
   "cell_type": "code",
   "execution_count": 55,
   "id": "1dae148b-5221-4a58-95ca-023972bff0a3",
   "metadata": {},
   "outputs": [
    {
     "data": {
      "text/html": [
       "<div>\n",
       "<style scoped>\n",
       "    .dataframe tbody tr th:only-of-type {\n",
       "        vertical-align: middle;\n",
       "    }\n",
       "\n",
       "    .dataframe tbody tr th {\n",
       "        vertical-align: top;\n",
       "    }\n",
       "\n",
       "    .dataframe thead th {\n",
       "        text-align: right;\n",
       "    }\n",
       "</style>\n",
       "<table border=\"1\" class=\"dataframe\">\n",
       "  <thead>\n",
       "    <tr style=\"text-align: right;\">\n",
       "      <th></th>\n",
       "      <th>scrape_date</th>\n",
       "      <th>count</th>\n",
       "    </tr>\n",
       "  </thead>\n",
       "  <tbody>\n",
       "    <tr>\n",
       "      <th>0</th>\n",
       "      <td>2</td>\n",
       "      <td>35</td>\n",
       "    </tr>\n",
       "    <tr>\n",
       "      <th>1</th>\n",
       "      <td>3</td>\n",
       "      <td>15</td>\n",
       "    </tr>\n",
       "    <tr>\n",
       "      <th>2</th>\n",
       "      <td>4</td>\n",
       "      <td>5</td>\n",
       "    </tr>\n",
       "    <tr>\n",
       "      <th>3</th>\n",
       "      <td>6</td>\n",
       "      <td>15</td>\n",
       "    </tr>\n",
       "    <tr>\n",
       "      <th>4</th>\n",
       "      <td>7</td>\n",
       "      <td>65</td>\n",
       "    </tr>\n",
       "    <tr>\n",
       "      <th>5</th>\n",
       "      <td>8</td>\n",
       "      <td>70</td>\n",
       "    </tr>\n",
       "    <tr>\n",
       "      <th>6</th>\n",
       "      <td>9</td>\n",
       "      <td>10</td>\n",
       "    </tr>\n",
       "    <tr>\n",
       "      <th>7</th>\n",
       "      <td>10</td>\n",
       "      <td>40</td>\n",
       "    </tr>\n",
       "    <tr>\n",
       "      <th>8</th>\n",
       "      <td>11</td>\n",
       "      <td>80</td>\n",
       "    </tr>\n",
       "    <tr>\n",
       "      <th>9</th>\n",
       "      <td>12</td>\n",
       "      <td>40</td>\n",
       "    </tr>\n",
       "  </tbody>\n",
       "</table>\n",
       "</div>"
      ],
      "text/plain": [
       "   scrape_date  count\n",
       "0            2     35\n",
       "1            3     15\n",
       "2            4      5\n",
       "3            6     15\n",
       "4            7     65\n",
       "5            8     70\n",
       "6            9     10\n",
       "7           10     40\n",
       "8           11     80\n",
       "9           12     40"
      ]
     },
     "execution_count": 55,
     "metadata": {},
     "output_type": "execute_result"
    }
   ],
   "source": [
    "by_month = kitty_litter.groupby(by=[kitty_litter.scrape_date.dt.month]).size().reset_index().rename(columns={0: 'count'})\n",
    "by_month"
   ]
  },
  {
   "cell_type": "code",
   "execution_count": 68,
   "id": "681fe984-f648-400c-84b8-99f86c06a7a2",
   "metadata": {},
   "outputs": [
    {
     "data": {
      "text/plain": [
       "<seaborn.axisgrid.FacetGrid at 0x23a3a5deca0>"
      ]
     },
     "execution_count": 68,
     "metadata": {},
     "output_type": "execute_result"
    },
    {
     "data": {
      "image/png": "[encoded data removed]",
      "text/plain": [
       "<Figure size 360x360 with 1 Axes>"
      ]
     },
     "metadata": {
      "needs_background": "light"
     },
     "output_type": "display_data"
    }
   ],
   "source": [
    "sns.catplot(x=\"scrape_date\", y=\"count\", kind=\"bar\", data=by_month).set(xlabel=\"month\")"
   ]
  },
  {
   "cell_type": "markdown",
   "id": "07e13ddb-571d-467e-ba00-3306fbf0aa4e",
   "metadata": {},
   "source": [
    "- No data in January.\n",
    "- Low counts in April and September.\n",
    "- Waaay too much in November.\n",
    "\n",
    "Since the distribution is so uneven will make it hard to do any kind of analysis."
   ]
  }
 ],
 "metadata": {
  "kernelspec": {
   "display_name": "Python 3 (ipykernel)",
   "language": "python",
   "name": "python3"
  },
  "language_info": {
   "codemirror_mode": {
    "name": "ipython",
    "version": 3
   },
   "file_extension": ".py",
   "mimetype": "text/x-python",
   "name": "python",
   "nbconvert_exporter": "python",
   "pygments_lexer": "ipython3",
   "version": "3.9.7"
  }
 },
 "nbformat": 4,
 "nbformat_minor": 5
}
