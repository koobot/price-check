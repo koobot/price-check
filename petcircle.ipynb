{
 "cells": [
  {
   "cell_type": "code",
   "execution_count": 1,
   "metadata": {},
   "outputs": [],
   "source": [
    "import pandas as pd\n",
    "import numpy as np"
   ]
  },
  {
   "cell_type": "code",
   "execution_count": 5,
   "metadata": {},
   "outputs": [
    {
     "name": "stdout",
     "output_type": "stream",
     "text": [
      "<class 'pandas.core.frame.DataFrame'>\n",
      "RangeIndex: 9 entries, 0 to 8\n",
      "Data columns (total 10 columns):\n",
      " #   Column              Non-Null Count  Dtype  \n",
      "---  ------              --------------  -----  \n",
      " 0   url                 9 non-null      object \n",
      " 1   scrape_date         9 non-null      object \n",
      " 2   scrape_weekday      9 non-null      object \n",
      " 3   scrape_time         9 non-null      object \n",
      " 4   product_name        9 non-null      object \n",
      " 5   product_size        9 non-null      object \n",
      " 6   sku_id              9 non-null      object \n",
      " 7   autodelivery_price  9 non-null      float64\n",
      " 8   standard_price      9 non-null      object \n",
      " 9   sold_out            9 non-null      bool   \n",
      "dtypes: bool(1), float64(1), object(8)\n",
      "memory usage: 785.0+ bytes\n"
     ]
    }
   ],
   "source": [
    "src_path = 'D:\\Documents\\Python\\price-check\\output\\pet-circle.csv'.replace('\\\\', '/')\n",
    "src_data = pd.read_csv(src_path)\n",
    "\n",
    "src_data.info()"
   ]
  },
  {
   "cell_type": "code",
   "execution_count": null,
   "metadata": {},
   "outputs": [],
   "source": []
  }
 ],
 "metadata": {
  "kernelspec": {
   "display_name": "Python [conda env:.conda-naive_bayes]",
   "language": "python",
   "name": "conda-env-.conda-naive_bayes-py"
  },
  "language_info": {
   "codemirror_mode": {
    "name": "ipython",
    "version": 3
   },
   "file_extension": ".py",
   "mimetype": "text/x-python",
   "name": "python",
   "nbconvert_exporter": "python",
   "pygments_lexer": "ipython3",
   "version": "3.7.7"
  }
 },
 "nbformat": 4,
 "nbformat_minor": 4
}
